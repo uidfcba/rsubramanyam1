{
 "cells": [
  {
   "cell_type": "markdown",
   "metadata": {},
   "source": [
    "# Segment of the Moment\n",
    "\n",
    "By\n",
    "Ram Subramanyam, Ph.D. \n",
    "Associate Professor of Business Administration \n",
    "William N. Scheffel Faculty Scholar, Gies College of Business\n",
    "R.C. Evans Data Analytics Fellow \n",
    "University of Illinois at Urbana-Champaign\n",
    "\n",
    "# Learning Objectives of the Case\n",
    "\n",
    "Understanding summarized sales data\n",
    "Performing descriptive analysis\n",
    "Making data transformations to perform unsupervised clustering\n",
    "Create simple visualizations to assess generated clusters\n",
    "\n",
    "# Case Background: MiddleOfEverywhere Resale Inc.\n",
    "\n",
    "You are hired as a Business Analyst by a midwestern wholesale firm - MiddleOfEveryWhere Resale Inc, which of specializes in stocking and selling grocery (some perishable) and non-perishable products. This firm has numerous agreements with retailers and resellers from the neighboring districts. As a wholesale firm, you mainly stock  popular brands of rice/grains, chocolate, and alcoholic drinks. In the non-food category, you stock popular paper products, clothing items such as T-shirts and sportswear, and convenience-oriented electronic goods. While you know that there are many retailers who buy from you, there are also local agents (resellers) that seem to buy these products from you. \n",
    "\n",
    "Your sales team is finding it difficult to come up with promotions and advertising targeting specific customer groups since they lack passed-down wisdom about the different types of customers they serve. They have been able to compile clean aggregate sales data but they seek your advise on the next steps. \n",
    "\n",
    "As a Business Analyst who has recently graduated, you are aware that a simple customer segmentation exercise (unsupervised learning) might be a good first step in helping your marketing team approach promotions and advertising in a systematic way. In sum, you are aware that computers are incredibly powerful in helping see through large volumes of data to recognize patterns that might help decision makers understand partitions of data better. Furthermore, you know that as data changes over time, your firm would like the customer segments to be malleable enough and change over time.\n",
    "\n",
    "The basic idea is that you are partitioning sales data into homogenous groups that are similar within a group and differ considerably from other groups that are observed in the dataset.\n",
    "\n",
    "You have taken enough Python coursework to take a first pass at generating customer segments from sales data. You have been given their (anonymized) recent sales data to start off the effort.\n",
    "\n",
    "\n",
    "# Computing Environment & Libraries\n",
    "\n",
    "First, you load the necessary libraries that will help you perform summarization of data and advanced computational operations. Before you jump into identification of customer segments (through clustering), you want to load the dataset and observe some summarized statistics. You are aware that the \"sklearn\" library has the clustering commands that you can invoke. You are also aware of the \"pandas\" library that enables data operations."
   ]
  },
  {
   "cell_type": "code",
   "execution_count": 5,
   "metadata": {},
   "outputs": [
    {
     "name": "stdout",
     "output_type": "stream",
     "text": [
      "Python version: 3.6.4 |Anaconda, Inc.| (default, Jan 16 2018, 12:04:33) \n",
      "[GCC 4.2.1 Compatible Clang 4.0.1 (tags/RELEASE_401/final)]\n",
      "pandas version: 0.23.4\n",
      "NumPy version: 1.14.2\n",
      "SciPy version: 1.0.0\n",
      "IPython version: 6.2.1\n",
      "scikit-learn version: 0.19.1\n"
     ]
    }
   ],
   "source": [
    "import sys\n",
    "print(\"Python version: {}\".format(sys.version))\n",
    "\n",
    "import pandas as pd\n",
    "print(\"pandas version: {}\".format(pd.__version__))\n",
    "\n",
    "import numpy as np\n",
    "print(\"NumPy version: {}\".format(np.__version__))\n",
    "\n",
    "import scipy as sp\n",
    "print(\"SciPy version: {}\".format(sp.__version__))\n",
    "\n",
    "import IPython\n",
    "print(\"IPython version: {}\".format(IPython.__version__))\n",
    "\n",
    "import sklearn\n",
    "print(\"scikit-learn version: {}\".format(sklearn.__version__))"
   ]
  },
  {
   "cell_type": "markdown",
   "metadata": {},
   "source": [
    "The libraries seem to have loaded fine. However, you want to ensure that the output of visuals/plots that you generate are shown inline just below the commands. So you invoke the following:"
   ]
  },
  {
   "cell_type": "code",
   "execution_count": 7,
   "metadata": {
    "scrolled": false
   },
   "outputs": [],
   "source": [
    "%matplotlib inline"
   ]
  },
  {
   "cell_type": "markdown",
   "metadata": {},
   "source": [
    "# Read the Dataset\n",
    "\n",
    "In this case, I have the dataset already available on the same folder as this .ipynb (IPython notebook) file. If the dataset is located elsewhere on the computer, please use a \"%cd  TheFileLocationWhereYouSavedTheDataset\" command with the appropriately typed file path.\n",
    "\n",
    "Here, you will be reading the Wholesale order quantities dataset in a dataframe using Pandas."
   ]
  },
  {
   "cell_type": "code",
   "execution_count": 10,
   "metadata": {},
   "outputs": [],
   "source": [
    "wholesale_df = pd.read_csv(\"wholesale_quantities.csv\") "
   ]
  },
  {
   "cell_type": "markdown",
   "metadata": {},
   "source": [
    "Everytime, you load a dataset into a dataframe, you want to check if the operation performed correctly. The simplest way is to check the first few rows of the dataset and see if the dataset loaded correctly. The head( ) dataframe function does this job well."
   ]
  },
  {
   "cell_type": "code",
   "execution_count": 11,
   "metadata": {
    "scrolled": true
   },
   "outputs": [
    {
     "data": {
      "text/html": [
       "<div>\n",
       "<style scoped>\n",
       "    .dataframe tbody tr th:only-of-type {\n",
       "        vertical-align: middle;\n",
       "    }\n",
       "\n",
       "    .dataframe tbody tr th {\n",
       "        vertical-align: top;\n",
       "    }\n",
       "\n",
       "    .dataframe thead th {\n",
       "        text-align: right;\n",
       "    }\n",
       "</style>\n",
       "<table border=\"1\" class=\"dataframe\">\n",
       "  <thead>\n",
       "    <tr style=\"text-align: right;\">\n",
       "      <th></th>\n",
       "      <th>Retail1Agent0</th>\n",
       "      <th>RiceGrains</th>\n",
       "      <th>PaperProducts</th>\n",
       "      <th>Alcohol</th>\n",
       "      <th>Clothing</th>\n",
       "      <th>Electronics</th>\n",
       "      <th>Chocolate</th>\n",
       "    </tr>\n",
       "  </thead>\n",
       "  <tbody>\n",
       "    <tr>\n",
       "      <th>0</th>\n",
       "      <td>0</td>\n",
       "      <td>26605</td>\n",
       "      <td>7242</td>\n",
       "      <td>9451</td>\n",
       "      <td>375</td>\n",
       "      <td>3744</td>\n",
       "      <td>1204</td>\n",
       "    </tr>\n",
       "    <tr>\n",
       "      <th>1</th>\n",
       "      <td>0</td>\n",
       "      <td>14820</td>\n",
       "      <td>7358</td>\n",
       "      <td>11960</td>\n",
       "      <td>3084</td>\n",
       "      <td>4610</td>\n",
       "      <td>1598</td>\n",
       "    </tr>\n",
       "    <tr>\n",
       "      <th>2</th>\n",
       "      <td>0</td>\n",
       "      <td>13341</td>\n",
       "      <td>6606</td>\n",
       "      <td>9605</td>\n",
       "      <td>4209</td>\n",
       "      <td>4922</td>\n",
       "      <td>7060</td>\n",
       "    </tr>\n",
       "    <tr>\n",
       "      <th>3</th>\n",
       "      <td>1</td>\n",
       "      <td>27857</td>\n",
       "      <td>897</td>\n",
       "      <td>5276</td>\n",
       "      <td>11207</td>\n",
       "      <td>710</td>\n",
       "      <td>1609</td>\n",
       "    </tr>\n",
       "    <tr>\n",
       "      <th>4</th>\n",
       "      <td>0</td>\n",
       "      <td>47492</td>\n",
       "      <td>4058</td>\n",
       "      <td>8998</td>\n",
       "      <td>6851</td>\n",
       "      <td>2488</td>\n",
       "      <td>4667</td>\n",
       "    </tr>\n",
       "  </tbody>\n",
       "</table>\n",
       "</div>"
      ],
      "text/plain": [
       "   Retail1Agent0  RiceGrains  PaperProducts  Alcohol  Clothing  Electronics  \\\n",
       "0              0       26605           7242     9451       375         3744   \n",
       "1              0       14820           7358    11960      3084         4610   \n",
       "2              0       13341           6606     9605      4209         4922   \n",
       "3              1       27857            897     5276     11207          710   \n",
       "4              0       47492           4058     8998      6851         2488   \n",
       "\n",
       "   Chocolate  \n",
       "0       1204  \n",
       "1       1598  \n",
       "2       7060  \n",
       "3       1609  \n",
       "4       4667  "
      ]
     },
     "execution_count": 11,
     "metadata": {},
     "output_type": "execute_result"
    }
   ],
   "source": [
    "wholesale_df.head()"
   ]
  },
  {
   "cell_type": "markdown",
   "metadata": {},
   "source": [
    "Here, the dataset seems to have 7 columns with the first one indicating whether the aggregate quantity in the transaction represents a Retail store transaction or a reselling-agent transaction (the variable/field called \"Retail1Agent0\"). The other fields seem to represent various product category quantities that pertain to a transaction.\n",
    "\n",
    "# Variable Descriptive Statistics\n",
    "\n",
    "A more useful data summarization command is the describe( ) command that shows you what the summarized statistics look like for each variable in the dataset. You want to pay attention to the minimum, maximum, median, and so on..."
   ]
  },
  {
   "cell_type": "code",
   "execution_count": 12,
   "metadata": {},
   "outputs": [
    {
     "data": {
      "text/html": [
       "<div>\n",
       "<style scoped>\n",
       "    .dataframe tbody tr th:only-of-type {\n",
       "        vertical-align: middle;\n",
       "    }\n",
       "\n",
       "    .dataframe tbody tr th {\n",
       "        vertical-align: top;\n",
       "    }\n",
       "\n",
       "    .dataframe thead th {\n",
       "        text-align: right;\n",
       "    }\n",
       "</style>\n",
       "<table border=\"1\" class=\"dataframe\">\n",
       "  <thead>\n",
       "    <tr style=\"text-align: right;\">\n",
       "      <th></th>\n",
       "      <th>Retail1Agent0</th>\n",
       "      <th>RiceGrains</th>\n",
       "      <th>PaperProducts</th>\n",
       "      <th>Alcohol</th>\n",
       "      <th>Clothing</th>\n",
       "      <th>Electronics</th>\n",
       "      <th>Chocolate</th>\n",
       "    </tr>\n",
       "  </thead>\n",
       "  <tbody>\n",
       "    <tr>\n",
       "      <th>count</th>\n",
       "      <td>440.000000</td>\n",
       "      <td>440.000000</td>\n",
       "      <td>440.000000</td>\n",
       "      <td>440.000000</td>\n",
       "      <td>440.000000</td>\n",
       "      <td>440.000000</td>\n",
       "      <td>440.000000</td>\n",
       "    </tr>\n",
       "    <tr>\n",
       "      <th>mean</th>\n",
       "      <td>0.677273</td>\n",
       "      <td>25200.675000</td>\n",
       "      <td>4347.295455</td>\n",
       "      <td>9939.234091</td>\n",
       "      <td>5376.018182</td>\n",
       "      <td>4034.084091</td>\n",
       "      <td>1372.440909</td>\n",
       "    </tr>\n",
       "    <tr>\n",
       "      <th>std</th>\n",
       "      <td>0.468052</td>\n",
       "      <td>26559.396292</td>\n",
       "      <td>5535.277571</td>\n",
       "      <td>11878.976961</td>\n",
       "      <td>8495.684816</td>\n",
       "      <td>6674.982284</td>\n",
       "      <td>2538.115509</td>\n",
       "    </tr>\n",
       "    <tr>\n",
       "      <th>min</th>\n",
       "      <td>0.000000</td>\n",
       "      <td>6.000000</td>\n",
       "      <td>41.000000</td>\n",
       "      <td>4.000000</td>\n",
       "      <td>44.000000</td>\n",
       "      <td>4.000000</td>\n",
       "      <td>3.000000</td>\n",
       "    </tr>\n",
       "    <tr>\n",
       "      <th>25%</th>\n",
       "      <td>0.000000</td>\n",
       "      <td>6568.500000</td>\n",
       "      <td>1150.250000</td>\n",
       "      <td>2691.500000</td>\n",
       "      <td>1299.000000</td>\n",
       "      <td>359.500000</td>\n",
       "      <td>367.250000</td>\n",
       "    </tr>\n",
       "    <tr>\n",
       "      <th>50%</th>\n",
       "      <td>1.000000</td>\n",
       "      <td>17858.500000</td>\n",
       "      <td>2720.500000</td>\n",
       "      <td>5944.500000</td>\n",
       "      <td>2670.500000</td>\n",
       "      <td>1143.000000</td>\n",
       "      <td>869.000000</td>\n",
       "    </tr>\n",
       "    <tr>\n",
       "      <th>75%</th>\n",
       "      <td>1.000000</td>\n",
       "      <td>35560.750000</td>\n",
       "      <td>5392.750000</td>\n",
       "      <td>13320.000000</td>\n",
       "      <td>6220.250000</td>\n",
       "      <td>5491.000000</td>\n",
       "      <td>1638.250000</td>\n",
       "    </tr>\n",
       "    <tr>\n",
       "      <th>max</th>\n",
       "      <td>1.000000</td>\n",
       "      <td>235517.000000</td>\n",
       "      <td>55124.000000</td>\n",
       "      <td>115975.000000</td>\n",
       "      <td>106521.000000</td>\n",
       "      <td>57158.000000</td>\n",
       "      <td>43149.000000</td>\n",
       "    </tr>\n",
       "  </tbody>\n",
       "</table>\n",
       "</div>"
      ],
      "text/plain": [
       "       Retail1Agent0     RiceGrains  PaperProducts        Alcohol  \\\n",
       "count     440.000000     440.000000     440.000000     440.000000   \n",
       "mean        0.677273   25200.675000    4347.295455    9939.234091   \n",
       "std         0.468052   26559.396292    5535.277571   11878.976961   \n",
       "min         0.000000       6.000000      41.000000       4.000000   \n",
       "25%         0.000000    6568.500000    1150.250000    2691.500000   \n",
       "50%         1.000000   17858.500000    2720.500000    5944.500000   \n",
       "75%         1.000000   35560.750000    5392.750000   13320.000000   \n",
       "max         1.000000  235517.000000   55124.000000  115975.000000   \n",
       "\n",
       "            Clothing   Electronics     Chocolate  \n",
       "count     440.000000    440.000000    440.000000  \n",
       "mean     5376.018182   4034.084091   1372.440909  \n",
       "std      8495.684816   6674.982284   2538.115509  \n",
       "min        44.000000      4.000000      3.000000  \n",
       "25%      1299.000000    359.500000    367.250000  \n",
       "50%      2670.500000   1143.000000    869.000000  \n",
       "75%      6220.250000   5491.000000   1638.250000  \n",
       "max    106521.000000  57158.000000  43149.000000  "
      ]
     },
     "execution_count": 12,
     "metadata": {},
     "output_type": "execute_result"
    }
   ],
   "source": [
    "wholesale_df.describe()"
   ]
  },
  {
   "cell_type": "markdown",
   "metadata": {},
   "source": [
    "Of course, you would like to glimpse at whether there are correlations among the key variables that you are looking it. Pearson correlations might come in handy for this purpose. First, let us load the pearsonr library that is part of scipy python package."
   ]
  },
  {
   "cell_type": "code",
   "execution_count": 13,
   "metadata": {},
   "outputs": [],
   "source": [
    "from scipy.stats.stats import pearsonr"
   ]
  },
  {
   "cell_type": "markdown",
   "metadata": {},
   "source": [
    "# Pearson Pairwise Correlations\n",
    "\n",
    "I am examining pairwise correlation between the binary variable Retail1Agent0 and the first product category field 'RiceGrains'."
   ]
  },
  {
   "cell_type": "code",
   "execution_count": 14,
   "metadata": {},
   "outputs": [
    {
     "name": "stdout",
     "output_type": "stream",
     "text": [
      "(0.16917190429811974, 0.00036495700244940646)\n"
     ]
    }
   ],
   "source": [
    "print(pearsonr(wholesale_df['Retail1Agent0'],wholesale_df['RiceGrains']))"
   ]
  },
  {
   "cell_type": "markdown",
   "metadata": {},
   "source": [
    "\n",
    "Can you now run correlations for the rest of the product category fields with the Retail transaction binary variable?"
   ]
  },
  {
   "cell_type": "code",
   "execution_count": 10,
   "metadata": {},
   "outputs": [
    {
     "name": "stdout",
     "output_type": "stream",
     "text": [
      "(0.16917190429811974, 0.00036495700244940646)\n",
      "(-0.46071554488698535, 1.6669826532408917e-24)\n",
      "(-0.6087923659410455, 5.6954522501244124e-46)\n",
      "(0.20204510196300357, 1.9530078005914703e-05)\n",
      "(-0.6360254380541559, 2.95540513784572e-51)\n",
      "(-0.05601219957214782, 0.2409962713727549)\n"
     ]
    }
   ],
   "source": [
    "print(pearsonr(wholesale_df['Retail1Agent0'],wholesale_df['RiceGrains']))\n",
    "print(pearsonr(wholesale_df['Retail1Agent0'],wholesale_df['PaperProducts']))\n",
    "print(pearsonr(wholesale_df['Retail1Agent0'],wholesale_df['Alcohol']))\n",
    "print(pearsonr(wholesale_df['Retail1Agent0'],wholesale_df['Clothing']))\n",
    "print(pearsonr(wholesale_df['Retail1Agent0'],wholesale_df['Electronics']))\n",
    "print(pearsonr(wholesale_df['Retail1Agent0'],wholesale_df['Chocolate']))"
   ]
  },
  {
   "cell_type": "markdown",
   "metadata": {},
   "source": [
    "# K-Means Clustering\n",
    "\n",
    "As a starting point for marketing tasks, it makes sense to explore whether there are meaningful homogenous subsets (\"Clusters\") in the sales data that emerge from the transaction data. This technique falls under unsupervised learning.\n",
    "\n",
    "Visit page:(1) https://en.wikipedia.org/wiki/K-means_clustering for the Wikipedia entry OR (2) https://mahout.apache.org/users/clustering/k-means-clustering.html to understand the basics of the K-Means algorithm \n",
    "\n",
    "Or Visit this page\n",
    "http://varianceexplained.org/r/kmeans-free-lunch/ by David Robinson (DataCamp) for a good discussion of intricacies of the k-Means algorithm... "
   ]
  },
  {
   "cell_type": "markdown",
   "metadata": {},
   "source": [
    "Let us make two copies of the dataset for our clustering analysis and import the necessary libraries "
   ]
  },
  {
   "cell_type": "code",
   "execution_count": 21,
   "metadata": {},
   "outputs": [],
   "source": [
    "import pandas as pd\n",
    "from scipy import stats\n",
    "from sklearn.cluster import KMeans\n",
    "\n",
    "whlsl_df = pd.read_csv(\"wholesale_quantities.csv\") #Reading the Whole Sale Customer dataset again in a \n",
    "# dataframe using Pandas\n",
    "\n",
    "#Make a copy of the dataframe before we start a transformation\n",
    "whlsl_df_tr = whlsl_df"
   ]
  },
  {
   "cell_type": "markdown",
   "metadata": {},
   "source": [
    "The clustering algorithm requires the data to be in a 0-1 normalized space free from limits imposed by units/scales of the different variables. While all the columns of the dataset are being transformed and the line below might be unnecessary, it is a good idea to have a placeholder and then store the Z-Score transformed dataframe into a new dataframe object... If the dataset it too big and you need to only use a few fields for the clustering operation, this is the place to save the subset in a new dataframe"
   ]
  },
  {
   "cell_type": "code",
   "execution_count": 23,
   "metadata": {},
   "outputs": [],
   "source": [
    "#Standardize\n",
    "clmns = ['Retail1Agent0', 'RiceGrains','PaperProducts', 'Alcohol', 'Clothing', 'Electronics', 'Chocolate']\n",
    "whlsl_df_tr_std = stats.zscore(whlsl_df_tr[clmns])"
   ]
  },
  {
   "cell_type": "markdown",
   "metadata": {},
   "source": [
    "# Choose the Number of Clusters and apply K-Means\n",
    "\n",
    "Here is the most important \"Trial and Error\" decision you need to make. I generally start with 3 to 5 clusters in sales data. A simple idea is to choose the number of clusters equivalent to the number on which you can act on as a decision maker. Here specifically, I have chosen K=4\n",
    "\n",
    "Here is the Stackoverflow discussion on this topic: if interested\n",
    "https://stackoverflow.com/questions/1793532/how-do-i-determine-k-when-using-k-means-clustering"
   ]
  },
  {
   "cell_type": "code",
   "execution_count": 24,
   "metadata": {},
   "outputs": [],
   "source": [
    "#Cluster the data\n",
    "kmeans = KMeans(n_clusters=4, random_state=0).fit(whlsl_df_tr_std)\n",
    "labels = kmeans.labels_\n",
    "centroids = kmeans.cluster_centers_"
   ]
  },
  {
   "cell_type": "markdown",
   "metadata": {},
   "source": [
    "Append the cluster labels into the original or the pre-transformation dataset"
   ]
  },
  {
   "cell_type": "code",
   "execution_count": 25,
   "metadata": {},
   "outputs": [],
   "source": [
    "#Glue back to original data\n",
    "whlsl_df_tr['Clusters'] = labels"
   ]
  },
  {
   "cell_type": "code",
   "execution_count": 26,
   "metadata": {},
   "outputs": [],
   "source": [
    "#Add the column into our list\n",
    "clmns.extend(['Clusters'])"
   ]
  },
  {
   "cell_type": "markdown",
   "metadata": {},
   "source": [
    "Cluster labels currently are '0', '1', '2', and '3'. Of course, if K changes, the numbers will change"
   ]
  },
  {
   "cell_type": "code",
   "execution_count": 27,
   "metadata": {},
   "outputs": [
    {
     "name": "stdout",
     "output_type": "stream",
     "text": [
      "          Retail1Agent0     RiceGrains  PaperProducts       Alcohol  \\\n",
      "Clusters                                                              \n",
      "0              0.000000   33526.500000   26031.500000  60671.500000   \n",
      "1              0.996622   27320.087838    2379.797297   4778.486486   \n",
      "2              0.750000  109246.250000   23772.000000  23113.750000   \n",
      "3              0.000000   17148.469231    6561.438462  17382.007692   \n",
      "\n",
      "              Clothing   Electronics     Chocolate  \n",
      "Clusters                                            \n",
      "0          5345.700000  34825.200000   2648.700000  \n",
      "1          5997.368243   1085.287162   1104.800676  \n",
      "2         52195.000000   3778.750000  17690.750000  \n",
      "3          2523.000000   8387.576923   1381.561538  \n"
     ]
    }
   ],
   "source": [
    "#Lets analyze the clusters\n",
    "print (whlsl_df_tr[clmns].groupby(['Clusters']).mean())"
   ]
  },
  {
   "cell_type": "markdown",
   "metadata": {},
   "source": [
    "# Try to understand cluster centroid values shown\n",
    "\n",
    "A quick look above tells us that in Cluster '0', the center seems to be occupied by an Agent who purchases high quantities of Alcohol, Paper and Electronics goods (based on sample means of these quantities). Huh? Might be, they can be approached by the sales force with specific promotions or holiday time window offers... and more...\n",
    "\n",
    "# Exercise\n",
    "\n",
    "Try to think of explanations of the other cluster centroids. If you are not convinced that there is something intuitive there, try K=3 and K=5 or 6 and see if there is a clear separation that gives you the AHA moment...\n"
   ]
  },
  {
   "cell_type": "markdown",
   "metadata": {},
   "source": [
    "An Easy way to understand cluster results is to perform exploratory bibariate plots using the transformed data.\n",
    "\n",
    "First, I am going to analyze Rice & Grains, and the Paper Products category and see how the clusters appear"
   ]
  },
  {
   "cell_type": "code",
   "execution_count": 28,
   "metadata": {},
   "outputs": [
    {
     "name": "stdout",
     "output_type": "stream",
     "text": [
      "[[-1.44865163e+00  3.13836287e-01  3.92191493e+00  4.27562195e+00\n",
      "  -3.57271883e-03  4.61816440e+00  5.03409659e-01]\n",
      " [ 6.83070908e-01  7.98898195e-02 -3.55851670e-01 -4.34938305e-01\n",
      "   7.32203890e-02 -4.42271370e-01 -1.05568438e-01]\n",
      " [ 1.55559907e-01  3.16804055e+00  3.51325033e+00  1.11032394e+00\n",
      "   5.51718632e+00 -3.82959427e-02  6.43661970e+00]\n",
      " [-1.44865163e+00 -3.03522397e-01  4.00461106e-01  6.27263254e-01\n",
      "  -3.36201948e-01  6.52952809e-01  3.59755550e-03]]\n"
     ]
    },
    {
     "data": {
      "image/png": "[encoded data removed]",
      "text/plain": [
       "<Figure size 408.75x360 with 1 Axes>"
      ]
     },
     "metadata": {},
     "output_type": "display_data"
    }
   ],
   "source": [
    "import seaborn as sns\n",
    "\n",
    "# Visualizing 5 axes (representing the variables) is going to be hard\n",
    "# So, we will visualize two variables at a time\n",
    "\n",
    "#Scatter plot of Rice&Grains and Paper Products\n",
    "sns.lmplot('RiceGrains', 'PaperProducts', \n",
    "           data=whlsl_df_tr, \n",
    "           fit_reg=False, \n",
    "           hue=\"Clusters\",  \n",
    "           scatter_kws={\"marker\": \"o\", \n",
    "                        \"s\": 100})\n",
    "plt.title('Clusters Rice and Grains vs Paper Products')\n",
    "plt.xlabel('Rice and Grains')\n",
    "plt.ylabel('Paper Products')\n",
    "\n",
    "# Plot the centroids as a blue X\n",
    "print(centroids)"
   ]
  },
  {
   "cell_type": "markdown",
   "metadata": {},
   "source": [
    "Interpretation: The plot seems to indicate that the '0' cluster members (in BLUE) seem to purchase high amounts of Paper products and low amounts of Rice & Grains; Similarly, the '1\" cluster members (in ORANGE) seem to buy more Rice and Grains products and low to mediam quantities of Paper Products"
   ]
  },
  {
   "cell_type": "markdown",
   "metadata": {},
   "source": [
    "# Homework\n",
    "\n",
    "Below, I have tried to run the other plots with other variables to understand clusters.\n",
    "\n",
    "Try to think of what the graphs are telling you... You might need to spend a lot of time and thought on it. Remember, that the algorithm required you to pick the number of clusters."
   ]
  },
  {
   "cell_type": "code",
   "execution_count": 19,
   "metadata": {},
   "outputs": [
    {
     "name": "stdout",
     "output_type": "stream",
     "text": [
      "[[-1.44865163e+00  3.13836287e-01  3.92191493e+00  4.27562195e+00\n",
      "  -3.57271883e-03  4.61816440e+00  5.03409659e-01]\n",
      " [ 6.83070908e-01  7.98898195e-02 -3.55851670e-01 -4.34938305e-01\n",
      "   7.32203890e-02 -4.42271370e-01 -1.05568438e-01]\n",
      " [ 1.55559907e-01  3.16804055e+00  3.51325033e+00  1.11032394e+00\n",
      "   5.51718632e+00 -3.82959427e-02  6.43661970e+00]\n",
      " [-1.44865163e+00 -3.03522397e-01  4.00461106e-01  6.27263254e-01\n",
      "  -3.36201948e-01  6.52952809e-01  3.59755550e-03]]\n"
     ]
    },
    {
     "data": {
      "text/plain": [
       "Text(27.256,0.5,'Retailer1_Agent0')"
      ]
     },
     "execution_count": 19,
     "metadata": {},
     "output_type": "execute_result"
    },
    {
     "data": {
      "image/png": "[encoded data removed]",
      "text/plain": [
       "<Figure size 408.75x360 with 1 Axes>"
      ]
     },
     "metadata": {},
     "output_type": "display_data"
    },
    {
     "data": {
      "image/png": "[encoded data removed]",
      "text/plain": [
       "<Figure size 408.75x360 with 1 Axes>"
      ]
     },
     "metadata": {},
     "output_type": "display_data"
    },
    {
     "data": {
      "image/png": "[encoded data removed]",
      "text/plain": [
       "<Figure size 408.75x360 with 1 Axes>"
      ]
     },
     "metadata": {},
     "output_type": "display_data"
    },
    {
     "data": {
      "image/png": "[encoded data removed]",
      "text/plain": [
       "<Figure size 408.75x360 with 1 Axes>"
      ]
     },
     "metadata": {},
     "output_type": "display_data"
    }
   ],
   "source": [
    "\n",
    "#Scatter plot of Alcohol and Chocolate\n",
    "sns.lmplot('Alcohol', 'Chocolate', \n",
    "           data=whlsl_df_tr, \n",
    "           fit_reg=False, \n",
    "           hue=\"Clusters\",  \n",
    "           scatter_kws={\"marker\": \"o\", \n",
    "                        \"s\": 100})\n",
    "plt.title('Clusters Alcohol vs Chocolate')\n",
    "plt.xlabel('Alcohol')\n",
    "plt.ylabel('Chocolate')\n",
    "\n",
    "#Scatter plot of Electronics and Retailers\n",
    "sns.lmplot('Electronics', 'Retail1Agent0', \n",
    "           data=whlsl_df_tr, \n",
    "           fit_reg=False, \n",
    "           hue=\"Clusters\",  \n",
    "           scatter_kws={\"marker\": \"o\", \n",
    "                        \"s\": 100})\n",
    "plt.title('Clusters Electronics vs Retailer or Reselling Agent')\n",
    "plt.xlabel('Electronics')\n",
    "plt.ylabel('Retailer1_Agent0')\n",
    "\n",
    "#Scatter plot of Electronics and Retailers\n",
    "sns.lmplot('Clothing', 'Retail1Agent0', \n",
    "           data=whlsl_df_tr, \n",
    "           fit_reg=False, \n",
    "           hue=\"Clusters\",  \n",
    "           scatter_kws={\"marker\": \"o\", \n",
    "                        \"s\": 100})\n",
    "plt.title('Clusters Clothing vs Retailer or Reselling Agent')\n",
    "plt.xlabel('Clothing')\n",
    "plt.ylabel('Retailer1_Agent0')"
   ]
  },
  {
   "cell_type": "markdown",
   "metadata": {
    "collapsed": true
   },
   "source": [
    "I have intentionally not concluded this caselet since the audience might want to experiment with number of clusters and cluster interpretations.\n",
    "\n",
    "# Conclusion\n",
    "\n",
    "At the end of the analysis, you end up with the number of clusters and best possible interpretations of each cluster that can be explained to the marketing/sales team, who will next design the best promotion or advertisement reaching out to customers in each cluster in a systematic way..."
   ]
  }
 ],
 "metadata": {
  "kernelspec": {
   "display_name": "Python 3",
   "language": "python",
   "name": "python3"
  },
  "language_info": {
   "codemirror_mode": {
    "name": "ipython",
    "version": 3
   },
   "file_extension": ".py",
   "mimetype": "text/x-python",
   "name": "python",
   "nbconvert_exporter": "python",
   "pygments_lexer": "ipython3",
   "version": "3.6.4"
  }
 },
 "nbformat": 4,
 "nbformat_minor": 2
}
